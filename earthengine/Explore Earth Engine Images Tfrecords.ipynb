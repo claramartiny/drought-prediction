{
 "cells": [
  {
   "cell_type": "code",
   "execution_count": 1,
   "metadata": {
    "ExecuteTime": {
     "end_time": "2020-12-07T11:57:18.948036Z",
     "start_time": "2020-12-07T11:57:13.359651Z"
    }
   },
   "outputs": [],
   "source": [
    "import os\n",
    "import matplotlib.pyplot as plt\n",
    "import numpy as np\n",
    "import tensorflow.compat.v1 as tf\n",
    "import argparse\n",
    "import math"
   ]
  },
  {
   "cell_type": "code",
   "execution_count": 2,
   "metadata": {
    "ExecuteTime": {
     "end_time": "2020-12-07T11:57:19.011771Z",
     "start_time": "2020-12-07T11:57:18.996352Z"
    }
   },
   "outputs": [],
   "source": [
    "tf.enable_eager_execution()"
   ]
  },
  {
   "cell_type": "markdown",
   "metadata": {},
   "source": [
    "# Show example of images"
   ]
  },
  {
   "cell_type": "code",
   "execution_count": 3,
   "metadata": {
    "ExecuteTime": {
     "end_time": "2020-12-07T12:43:43.559985Z",
     "start_time": "2020-12-07T12:43:43.534154Z"
    }
   },
   "outputs": [
    {
     "output_type": "stream",
     "name": "stdout",
     "text": [
      "WARNING:tensorflow:From <ipython-input-3-e0f2fd828e0b>:8: DatasetV1.make_one_shot_iterator (from tensorflow.python.data.ops.dataset_ops) is deprecated and will be removed in a future version.\nInstructions for updating:\nThis is a deprecated API that should only be used in TF 1 graph mode and legacy TF 2 graph mode available through `tf.compat.v1`. In all other situations -- namely, eager mode and inside `tf.function` -- you can consume dataset elements using `for elem in dataset: ...` or by explicitly creating iterator via `iterator = iter(dataset)` and fetching its elements via `values = next(iterator)`. Furthermore, this API is not available in TF 2. During the transition from TF 1 to TF 2 you can use `tf.compat.v1.data.make_one_shot_iterator(dataset)` to create a TF 1 graph mode style iterator for a dataset created through TF 2 APIs. Note that this should be a transient state of your code base as there are in general no guarantees about the interoperability of TF 1 and TF 2 code.\n"
     ]
    }
   ],
   "source": [
    "dirlist = lambda di: [os.path.join(di, file) for file in os.listdir(di)]\n",
    "training_files = dirlist('testimages/')\n",
    "\n",
    "def parse_visual(data):\n",
    "    dataset = tf.data.TFRecordDataset(data)\n",
    "    # pattern for one part file\n",
    "    # dataset = tf.data.TFRecordDataset('part-r-00099')\n",
    "    iterator = dataset.make_one_shot_iterator()\n",
    "\n",
    "    features = {\n",
    "        'B1': tf.FixedLenSequenceFeature([65], tf.int64,allow_missing=True),\n",
    "        'B2': tf.FixedLenSequenceFeature([65], tf.int64,allow_missing=True),\n",
    "        'B3': tf.FixedLenSequenceFeature([65], tf.int64,allow_missing=True),\n",
    "        'B4': tf.FixedLenSequenceFeature([65], tf.int64,allow_missing=True),\n",
    "        'B5': tf.FixedLenSequenceFeature([65], tf.int64,allow_missing=True),\n",
    "        'B6': tf.FixedLenSequenceFeature([65], tf.int64,allow_missing=True),\n",
    "        'B7': tf.FixedLenSequenceFeature([65], tf.int64,allow_missing=True),\n",
    "        'B8': tf.FixedLenSequenceFeature([65], tf.int64,allow_missing=True),\n",
    "        'B9': tf.FixedLenSequenceFeature([65], tf.int64,allow_missing=True),\n",
    "        'B10': tf.FixedLenSequenceFeature([65], tf.int64,allow_missing=True),\n",
    "        'B11': tf.FixedLenSequenceFeature([65], tf.int64,allow_missing=True)\n",
    "    }\n",
    "\n",
    "    parsed_examples = [tf.parse_single_example(data, features) for data in iterator]\n",
    "    return parsed_examples\n",
    "\n",
    "parsed_examples = parse_visual(training_files[0])"
   ]
  },
  {
   "cell_type": "code",
   "execution_count": 4,
   "metadata": {
    "ExecuteTime": {
     "end_time": "2020-12-07T13:48:04.912457Z",
     "start_time": "2020-12-07T13:48:04.906096Z"
    }
   },
   "outputs": [],
   "source": [
    "def get_rgb_img_to_plot(parsed_example, intensify=True):\n",
    "    rgbArray = np.zeros((65,65,3), 'int64')\n",
    "    for i, band in enumerate(['B5', 'B3', 'B2']):\n",
    "        band_data = parsed_example[band].numpy()\n",
    "        if intensify:\n",
    "            band_data = band_data/np.max(band_data)*255\n",
    "        else:\n",
    "            band_data = band_data*255\n",
    "        rgbArray[..., i] = band_data\n",
    "    return rgbArray"
   ]
  },
  {
   "cell_type": "code",
   "execution_count": 12,
   "metadata": {},
   "outputs": [],
   "source": [
    "def clean_ee_borders(img, number_of_features):\n",
    "    '''function to clean black pixels of a satellite picture'''\n",
    "    for i in range(number_of_features):\n",
    "        img[:,:,i][img[:,:,i]==0] = img[:,:,i].mean()\n",
    "    return img"
   ]
  },
  {
   "cell_type": "code",
   "execution_count": 14,
   "metadata": {
    "ExecuteTime": {
     "end_time": "2020-12-07T13:48:09.870971Z",
     "start_time": "2020-12-07T13:48:09.681388Z"
    },
    "scrolled": false
   },
   "outputs": [
    {
     "output_type": "display_data",
     "data": {
      "text/plain": "<Figure size 432x288 with 1 Axes>",
      "image/svg+xml": "<?xml version=\"1.0\" encoding=\"utf-8\" standalone=\"no\"?>\n<!DOCTYPE svg PUBLIC \"-//W3C//DTD SVG 1.1//EN\"\n  \"http://www.w3.org/Graphics/SVG/1.1/DTD/svg11.dtd\">\n<!-- Created with matplotlib (https://matplotlib.org/) -->\n<svg height=\"250.644728pt\" version=\"1.1\" viewBox=\"0 0 251.565 250.644728\" width=\"251.565pt\" xmlns=\"http://www.w3.org/2000/svg\" xmlns:xlink=\"http://www.w3.org/1999/xlink\">\n <metadata>\n  <rdf:RDF xmlns:cc=\"http://creativecommons.org/ns#\" xmlns:dc=\"http://purl.org/dc/elements/1.1/\" xmlns:rdf=\"http://www.w3.org/1999/02/22-rdf-syntax-ns#\">\n   <cc:Work>\n    <dc:type rdf:resource=\"http://purl.org/dc/dcmitype/StillImage\"/>\n    <dc:date>2020-12-07T17:39:59.775946</dc:date>\n    <dc:format>image/svg+xml</dc:format>\n    <dc:creator>\n     <cc:Agent>\n      <dc:title>Matplotlib v3.3.3, https://matplotlib.org/</dc:title>\n     </cc:Agent>\n    </dc:creator>\n   </cc:Work>\n  </rdf:RDF>\n </metadata>\n <defs>\n  <style type=\"text/css\">*{stroke-linecap:butt;stroke-linejoin:round;}</style>\n </defs>\n <g id=\"figure_1\">\n  <g id=\"patch_1\">\n   <path d=\"M 0 250.644728 \nL 251.565 250.644728 \nL 251.565 0 \nL 0 0 \nz\n\" style=\"fill:none;\"/>\n  </g>\n  <g id=\"axes_1\">\n   <g id=\"patch_2\">\n    <path d=\"M 26.925 226.766603 \nL 244.365 226.766603 \nL 244.365 9.326603 \nL 26.925 9.326603 \nz\n\" style=\"fill:#ffffff;\"/>\n   </g>\n   <g clip-path=\"url(#pa9528703cc)\">\n    <image height=\"218\" id=\"image47bdbeab4d\" transform=\"scale(1 -1)translate(0 -218)\" width=\"218\" x=\"26.925\" xlink:href=\"data:image/png;base64,\niVBORw0KGgoAAAANSUhEUgAAANoAAADaCAYAAADAHVzbAAAtaklEQVR4nO19Wc8l13XdqXm48/3GntlNkRTJwAZjk7aUmKBNWaTkIbIcIAiQIEB+ip70kl8gBEje8hAkcqxIpKSEiizGlinTsCyJMkWxSfb4zXeuuSoPQe5ee4tNtKju6o/hXk/VXfXVPVV1z62191l7betLX/5KYxSKjwAef+b319uPeRXb99VX/2fbw/mlYD/oASgUHwfoRFMoWoD7oAeg+HjgD557gf173/LW26Pjo/X2sRuw4+qSKGIN/7+5M7yn47vf0DeaQtECdKIpFC1AJ5pC0QI0RlPcFT77hT9db7uWtd7204wdt1gV6+1elq63q6Jgx+2WtC+D83VYJGZM4jnr7ajO19t2zY877dA3mkLRAnSiKRQtQKnjxxj/6rnPsH+f5EThwo7H9tklUbXEoX1OyRUaOyH9dlfdPv3NwYQd5wAlLAydb9Lps+PqxWq9fZCV9Pf7C/NRgr7RFIoWoBNNoWgBSh0/wnjuD//FettKKYs36HF1xYntr7dnM8oSrmKuJy8boo4LyAQaY0zcpXO6SzpHWnDq6MB2nlGm8djx2XGeTefPDJ3DXyXsuCkkF8dw8tspz2KedugbTaFoATrRFIoWoBNNoWgBGqM9IPzGZ/75etvt8pR2kFJKu2gofgkd/rvI1BYQU81WPH5xGorfLsQUK50seDxkIorDQpt/1jKhuGz75Hi9fdvmX6GsoqAqr2lMA4uP6ZiGZOYLUnxEox47LoTT1yXFlL7nsOOefvK319uv/fivzGmDvtEUihagE02haAFKHX9FPP7cn7B/+yGksRMuuPUqok82bDvpjB1XQFGkaxNFyoqSHVcBXayAspmMp9zPnhvRkA6n6+1Vw1P4DlBJZ3PE9pU50bv3YHxGjMl2aby91XK9nbuc6nnD7no7bEjlUdl8TEFBn5s2RB3Tmh8XOaf7q6xvNIWiBehEUyhawOl+37aM3/ijf7PebpZLts8GClOAksGI7FcGdNEV9Mav6O/SkDJ8xZx/VrdHWcg8pc8NQ66ucDLa1wB1sgync9fe2VtvX7q8SztOOGU9TsGf43jK9m1A9jPd2Vxvu6uUHXcCGc+DiO5Np+Q0uoHrmlj0e7945xY77vw5+qwAaOU5w8+3553ur7K+0RSKFqATTaFoATrRFIoWcLqJ7S+Bf/L8F9i/G0h3ZxZd5upowo7zQSlhZaTI8BweX2H23I8jOt+Eqysch1LQ3VB4FDqkehgGFL9cPeaxklfCGB2IAX3+uOyA0uwDn34z5/v8fD6k4A+OaF8hfDzikM63KVT0Vi9ebzf7B7Qd8GvsZvR3IzjfJOzw8+UQywbwDLb4skID1+xDkelxwZ9P3aV7++yzL663v/vdl8xpgL7RFIoWoBNNoWgBp4Y6/u7n/uV6e3l0uN6ORfq8AjrW+EQ5Vkc8HY00yOSUgo6F8iDvEqXJoIjREtRxBbTFnxLFtFx+CytQQ1SCOjohXYsD6fhdQZdyoFUhXL9d8ZS278G9gMLPqOFWbBXcwmxCKgxLLBfYoLyYCaVFjAWeMN78iNPUgU2fPYfCTy/k5ztpaFB+h8bxcJePKYL7XiRES8sFX1bYtuhz31uevqJQfaMpFC1AJ5pC0QJ0oikULeCex2jP/vqz6+004Hx7taAYw4v4vvkhte4JDMUKtYiBDMQOOcQbccl5+dGKuP1wRErxRcJjOduHGCglnl/W/HwhxAAWxDINSLOMMaaG4syg4Sp6v6E0+/x4Tjs8fi9qQ/FhDvGgLc5X4pIDpPddeT6I82KXjrNEIemqhsLKDk/H2xAf1XjfF1w+VsGSQxmH6+2jJb9P/QGd34WYNM25fGx+g5YSaoyhz++w49776dX19rlHzq63/8GcDugbTaFoATrRFIoW8IHU8dELT623PVAAjM+N7/g3xf7JejsLIrYPHKdNU3JPQdelf3tAkZKKHxeB8iAC1QAWSxpjzI5P40URfWz4+dKyhOPod8fLOXVMCuJpY6CA1pB7XMwF9UFMjohmuTGNN6s4JXSBmgZdol9BL2THNTNI1UMRZ8NXREwJ1xjCc0yEJ6MN8he+uGFMDpS9Boo5M/y+dwvYBx1jdsWYkoT2JRO6L/EGv5/1iCoZAqC6J+/eZsf1HrkAY5Kjf/DQN5pC0QJ0oikULcB9/NFPrf9RCwrjALXoA0NY7p2w4/w+ZZASlzJeYcXplw1ZSF9QuBX8294iatrNeLYKvSLilChHR1C4CrKVK6ApKAg2xpgCm+pF0CXF4zTNgXvjQeYuE0qTvk3nSIQVGwqVM6Cmvsj+NZgZhO38ZM6Pg7/z8RQioxsBFS1BYFy7QhkCguig32X7xgXd6xk8klnFVSiLiO5vmFE2MY/4fW/A0ruGDGQlvhch7Du5STZ3/UcvsOMMfLeqWqmjQvGxhE40haIF6ERTKFqA+8abf7n+x2OXn2Y70TdwnhCnXoo+3UNQ0edg1jIcDNlxKZi/5BGPAQJQ2N9+89p6e3R2gx3XBVW+DSn92hMdKi1QbwBldwN+HMYKDabIK87zMS1ugxFMDYoWY4wpwb/Q5mGJsaHY08VQRCwlmBpMckCJn7l87GOXjnM9sARP+QPK4bN8KIJthEIfbb/jhKvjb82h8TvEucMhv8gMGjdVFfyOL3nlQQ3xKotRfR43ojnRaHdIO1z+jrBKOi6DJZbfefo5dtxfvPYd8yCgbzSFogXoRFMoWgDjDlXDU6sWpFozKOKzBU2roPNIBR4XhcOPQ3rX9/m+FYh4RxdJMBrmnMJUwINSOJ8NTcWNMSZkbUiIYq2m3AsDxc1oR117vGjThpWPuqJU93DMxbcrKEgsRaq6BqtuF6iTtCRsUBQMBZ2OSJG7LlEkG2i+23B1igXLNJ1tWjqxZ7xo0wL/lJWgsy5cSwXW4dWKU8I5MO4OrjmEfLmkhO+MDUsOXslpLzYvjYC+z4RIGT9q2KfPmqf8+/OgoG80haIF6ERTKFoAIy2iuYgJwFMiA++GsuaUaHZC4tYAKNHB2zfZcdE2eU00Oad6UUx2Zj5klJogZsd5k8l6u4afCa/Dj8NaqxA6slgim+gck8rleEzUJKp4nZUBWuUBdVo1nBLZcGvKhFM4D0TBviFqllVccdtJiY5NgWLFoutMDo0Dl3NoAs8fjxmC+DqFbKJdciVQBTVnbp9T4hqVIjN4diPRRPF4st5Gv5NMWOX5wBBROG4HfPAJZFCXQInRUtwYY47gHCMIc0a2SJE/IOgbTaFoATrRFIoWoBNNoWgBjDgnifC/gLSwA+poV8QA2KjciigOaXzOjz2Im1LhPRiCkqOAmMq5weO85iL5QUQVxECikBT9FWufxpSLxuw+pLgdWEqof+EaIY6AhuahSB8vIaYKhLK9gXghmVJMJcIXpvqPwNOkEqnvBfgXBrBGMC5FbAhx2QEoYTYMj9GC4XC9nVvC1/KE7ucmxnyieNQBr5EUlgQcWXC7pDgvgMoIS9Qir26RYj+CFk79nC8rRDBep6Tt5JQUgeobTaFoATrRFIoWwN7TN2//kO28CJ4hLohlS5FaDXtQ7Be/v8DYGGPSnKhPx+Wv9AILRsE6rjh3lh3nAL0tLbCL7nAlh4G0cAIFiJ4jUtpALXoDooSVJVQdU7D6BmqWRDy9b2b0WbWgXw3QL1SuFKJ4tEIKX9N9XzX8d7HK6VqiiM5hizEFDdG0c6DImYe8WNaA0qYQz64L1nEroI7VlBejunD+eg7N58XzsYBiF0A/h8ICvtyFRvdAe3vChtAF2z/Hos86FMWtDwr6RlMoWoBONIWiBXyg3ZyDQlD01og5DahQNQKNzxshUkbBcS4W7H1Yzc9BYGxlPLtUgBqixt8J4RhsgZKhPiJ6E3l8TCVkOA1k5ypB5wLI/hnImCai4boLVM+NBJ2Fc+SQFW2EwNoGoW4GHWm8UNAqSC66YJVXLDnt2we23IHOLa6s6TJ0XXHM6WcOz8cBCVEhu+kAXSxDCinsGaeYJSiIYqCVqfBPMUAlQ8jiziz+uSl8t87AubsNF0d/8YUX1tv/5eWXTVvQN5pC0QJ0oikULUAnmkLRAj4wRltCMeU2WDXnoNY3xpgKGnWvwMuxEXGOC51Hii2h0IC0O7Lq/mggRkU83Z9QfLQSqpaswnQ3xSVNymM+9E1cQfP0RsQefkXnrzKKBzxhAZ6C2sJNhLwkhGLHPl1/dTjhn9WF5RKIWRZL0ZjeonEk8JuZiBitD910Cnimds3jsLqGe+uKeBDixqqg+1mL49DSuwOlDIXPPWKcGcRyoGo54wq/E8gNVBCXDYQ8aQh5gkN49m+5/Bp7tpT8tAN9oykULUAnmkLRAj6QOtpAC+ZzohxOjxcFuqCicKGLSyaUuRakse1jXlhZh9BYfEw0wxXN98KcKNwS6VIhhLRjomYu0C9HFDtihhtFysuAUw4ro33RgpoZTsQtdID2GSEqdkDZkR0T7T0QgugzQEeXsETiOpymIVnuwYU4I674OFjRkSGYawwyQUVhuGnNFRUlWLPbsOwTC/vxBscI1xGGfAnDBWWIm9F367Dm99MGa7vogKz9TkpBbSFMwWWkjuhiczN9MCJjfaMpFC1AJ5pC0QI+kDq6ID2w4VVvltzvw+kR1UOLOl/QBRsUFcGINzMsgZpis8D5bd65pgQxbg02coWghD5kRjOgN5EQC5eQXawh65gsuaLAB8qaAXVKE57FtKFhoVeIDKfz/qqWgc3HPgcVhgf0vRIZMwuo6eGElBdb4udzCOcYgRC7EaLnOWR0U3E/gx55srhwP92aH4fOwnYAA7H5d8HvQmchHJNwKm4gO5lGFLJ0RI/xQ6C9EYzPEVlh36dr/tyLL7J933jpJXO/oG80haIF6ERTKFqATjSFogV8YIx2/RYVgj750D9ebxcWn5/YQSWCrpmZ6Awa71ARnyVipf6A0rg5FEh2zm+x4zoYKkKK3A94HjeFeMsF30TZUbKE6gC0v0hnU3acD8WtGG3UokJhBQ3csdG7McZUEIeuwBekE/K4xIKlCryqLOPxRg3LJdidFTvLGMPVFXNQ3rviGUSg0ChFJ6AM4nILFDmZzJaDuiTyKaZqRPfXnZrON4c4yhPfrWP4bjmwTFMtuPol6dGShg1VGJYoMHbh+vOcq4nuJ/SNplC0AJ1oCkUL+EDqiPChGbt8vadATWpIlzeB8GvArjPCpgwcwkz34jZ9lrQfX0DKHES21S80PifKsQAL707EKeYUrKRxSL6gczl2P4FUciaa+SGDdWx+n5Iupci7oHhxPN4lJjB4XXSOSFBHbG6PTe/Lit/bBihiBUJkVwiCMyiydDJOzUJYqnDgIgMh+s7A1yMDCny44ktCdUz3zQIabddC4QMVwnEX7qfDRcpoN5igNaKwBB+u6N4ufdEp8j5C32gKRQvQiaZQtIC7po4VUEcXsk7GGONDJxgHfDKi87z/tAVqA8vntMUDCpZAs8BMNNUzQFszoAtCb2ssqJ+KIPOUzHj2ywKq60EmqxbZSXtJ55hCdi4K+S2sgaYmBfcMcaBDSwai5VTUyA1gXwnuxKXwaskh6xgYOseRaA64AQqdxqHrKoWqw6zA5k/UEhr4LKzVs1dcmIyiYhvu+/kBp2ke2spBpjI3/EHWDdTBQR/sUvisbIMi+nZOnxsIp+JVTf9mTtf3GfpGUyhagE40haIF6ERTKFrAXcdoDaRZRVMTU0LaOYYV/0akj11IQYtmMqYA5UBvQDFfLlLa6Et4eHBIf2/x+KWAFHcHVO5+R/hkgA/hCqzIPREP2aAAGWGhq+jckqB3o2i4HkIstrpJY+9ClxRjjHHgnHOII3piCaNaQCod4t8NUTWByyAxLG9g1xpjjKkgbuoLxUsBcVQBzeznIr50wfHF8+h3fCaWaS6D0mYGSwJBymO+EgqJcxhDUvLYawyxZx8U+gf8dOaxLsS14jbdT+gbTaFoATrRFIoWcNfUMQRqlwrPkC6IZ21o2p4nXF3gwKp/k3Ja1cCyQAkSjUZwzAS6uuQZ7Vssj9hxaB+dQ6o+EXR2OSERcDSmJYwiERQGVR5gI/76Ebfe+/QWnSPIRGNHbG4PvKWccdVECfR2AEWMshFh5OOYaJ8jmvQF0KQeO/z4QjVRujSmZcjT8R1o0liAwNgP+FdouQRBNKhaAlFkOgMhsQ/HHVmcHmdT+lxU4QTic48DGm+c0HfkUsifgQedcGZLTvv/2ec/v97+s69/3dxL6BtNoWgBOtEUihagE02haAF3HaO99v1vrbc/9fk/YfuqOfDoPWrubQnPvzmk6htPpJanxPunIOsJeiJWwBQ5FFK6Qk7jQqq6gLhsKvpFYXxZQhySi/glBumXD22BntnkKvIlGOv4wlb8ECROI0h9y9pJC4xwbEjpNzn3wsxQaoSKdXFvsQjWgBW5ETEkVkrkokIjx8JKiK9uH/B2TAbiPCegWHt2yONQd5vu25ZFz3TP4VbxnQEss8Bl+CseG6cVHdeFZQBPLL9kYBLUE9/+G6lYc7qH0DeaQtECdKIpFC3grqkjYrrk6eMuqDAaVGXLpXdU3u9zP5ERKDFqi17h9pxThALUFn0onkz6nGKiN4gdQEWBKCx04bNSEC9UQhkxhyoCB5q0h2d22HHeCXmNJOJ3bAzqjQronSVKDzLojHM0Ibo42hyx41ygnwbUKoVQtudwLVFCFE44kZvpMdHAruE0qjOhZz6BNPtQdDXFTp4jeP6Dbb4kNAIlx55NVNmv+JLQEJZpNoBjpw4ffFMA7Yeh5w2/tw5UNlyt+b4rm/evEFTfaApFC9CJplC0gA9FHa2MFwwWoBSJgRLVQqGwgIykb3FqUs+Btrjo98GzVQ34UKBddikKEAsosvRA1dEI6phARs6GYsdaZN16QMd8oI71gmcC0XqvFL4owZAyaijS7QoBcwXUcbwzpLE7PD+ZAI2ugX4e35yw4wbQWWcBFmvSF8W5cIbGOuXnWIDyIjsiejz2+TOutoneVpDVHPj8fkZw3/sR0cCfF5zOTcAebsun41Lx1e009Fl78FXY4hpyc7WgcWwHfEzvHfNruZfQN5pC0QJ0oikULUAnmkLRAj5UjPbjv3qZ/fvpF/90vZ2gKnufK+qH2EheqPIbMHJZgU23UwgzHYhtjiCP2w/5b8bVKcV89phaRA1r8bldUigs9w/W290eV3xgtYEF1tSpWAbIQGG/Eh0/LRjTJihSVqK5ew5xqJ1T/BbXohoAYixcItiGuM4YY1I4f2dA15VL4xq4FmfElxIw3go26fyWWAaYzeizdjr09doRyp14g2LoNw/pbx4b8K/k2wuKc3+4R8eFQnV0vaC/m8L3rLB4kLYR0DVmYlllmmqMplB8pKETTaFoAR+KOkrYt/fX2xaoBppt7oURg4V1LmgliliLE/KNDKXvBnTU7IMINrPEpYByIAZh6aHo0NmF1H+nA8oAQW1X6HkRE22RtC/x6Bpdjys0SqCEe9CRNBJp9i5Yh2PXnbl4XCV4FMZg2S2XAUagaqnmRAHjDldCNJBKTw8nbN85oHoJNnpPOJ0dwRLJEpaB/ka0nTkHCpA96K56o+S//TNQIZ3p033pGL50MgGr8wwE6mnBx3duSNdcN/wcA7Ap3/inn1lvv/a9b5tfFfpGUyhagE40haIF3BPqaIGHRg31WObGHjsuAQGqMKM2+TGJjLvQ4SWRKhTIFFlgK2ZHnAaN0ZoM6GdXWJGXS1J2FCiIFR1Z/A5Rpxps3oKQqzp8oIsTUe/lA+XagIzc4S0usN7aog4tR1BzF/dFJhR+JhtQbljC6hsbDAZD8HQR1uEeUNvtizzrmKa0r3boGh/b4PT45j5lVt+qIVQQIcC1W5P1djyge3txyM/3LfBk+e1dyiD6oovPCCjsxgYdd+uEK4veLun5j4Xd/AJUPudGsbmX0DeaQtECdKIpFC1AJ5pC0QLuSYzmAMcusTWTUMDHM0rbT4VHYQjefqgwF3aAJsWuoVDQaYkYYI4xFqT3O6Kp/AqUJ5MVFGYK6/AcYs8xfNaOUKXnCxp74fF9HniI3Ib71Bvxosg57AtBreGLmCKBpQqnpvFaojLCAovwEtpKeeJeHB5Tyj0QbatyuJ8WtEh6+4CP6UyfxvFZiHPemfDjfgzx0FNn6bii5PHl5y9T5cEtCCk/OeJfXfSISQuKy3Z6PIb++YxiyCc+yduKJUuID517+w7SN5pC0QJ0oikULeCeUEc0TOsA5Voe8s6gM+gMas1EwSSoHBoQ4xbCASyCwsoUKFzj8t+MMRRqeiAWPRFp+y76X0D3zlXGqegW2J6tYInhpuC2NlAYaYGHgmgHlylEgagP1+h1kcKKYlkmlibKmhb8c1Og6Q1sx0L03BvQZ+0vuOKlC1baIdD3wOfUbB8s24ebZFH32AVOxW/vU/Hod35CYu5nPzFkx711TGPc7ZOC5tohL/TFDq03Err+x0Z82efsLtH0XFgPxtCVdG+PlhVefP5FdtxL/+Ml88tC32gKRQvQiaZQtIB7Qh1ffeVr6+1nHn9mvW0Lp14XBKOJoFU1WonB/4fCsq5MiSJ5QNvqQJhDwPlWXaIEvnCuDVDQC0LisuBjnwCHRas4V9Sj4Tlsh489QsoFf4ZZW2OMObhJ3irngX75ET+fc0iUywcrukY0IswSosHfevPWevupCzzrNoYmhZbICp8ZAG0DIbUXcEH05R1SrziQdW2EcPrJS5RN9PeJ2v/ohD+fzS79XS8AJZD4bq3ggX96g573rQmnwB1ovljY/NklUEu3gHfQmQHPzn4Y6BtNoWgBOtEUihagE02haAH3KL1PCLoUb6Qi9Y3/XqaciyOD74DnRZhzBfwKeHQIsUgmfjIwlY7RhitihQJoeh9ir5OKp/crWBZwarhtHufvYD1oLKEaybCBPXaMSfk1bm5R/DKDfbJL6rlNOgcuR6xEQaML9+KLv3mFPlcsF1hQbdDp8LR9BhUVOzHFw11xjcdLGK9P28kxV9GfQAXEENQbvTlP26NAwwefEFtcYwmqngXE08M+f97vTOm4QMTXF2J6lmfguqS1+4eBvtEUihagE02haAH3nDqmQGGCRlqHU+q3DzbVxhjWFA8pzVJ4cngdogIpdD+pRfPwBJQhMVAEmY3HrjFTsPpG/wxjeFNBbFReifMVIKSuhbrEASu+AIpgsxW/RgfOb8NygWwwuIB2MFFEn1sKxYcfguAY6GtSyiUWuuZSeKZ04X7iPbsmaO9ZYNJYBOoIe7gIuv+U6Dvi82uMO9DYEBUzIiw5mQEtj/Fv2GFmEyimaEjDvhy34HwLYVH4YaBvNIWiBehEUyhawD2njh108RXGIAHQglRklyywKWvADCMY9dhxNdCMukPUJxNC2gH4YeQgOPVHPJuGVKWAXtyRyCZOwAtkvqQM2qZoDphDvVcl6BcqO1LokuPa/PeumCzgb4hyodjYGGOWU/osrNMzwt0Z+ziHYNnmGK4gQfdoX9SjNUB7PchI7oh6QQeytRWoSzwhUsa6xf4Y/Tn4vXDh+zRb0bNfCFo+AC+UDvixzIQd3gncM08I0d8EWrkBfjQ9GW98COgbTaFoATrRFIoWoBNNoWgB1pe+/JVfnYDeAc//1vPs39jVRDZjd6DrZQ682hbHNejLCLFHJdLMqwPySvQgjpCN2RtI2+PSwZHwIAl82ncM8cpYqMjnkIIPhQrFmlC6ezgm78bNAa88mB/ScRWk6nsbfEmkhpT7EOKmufB1LEBR4oDaXtQ7GAvG6wq/kxqKU7ddeia1iGVjWJpoIL6qRAy9wHURSJ9b4ts4AA8SXH746c+5pXwMMT4qYRZiqcMBlX8sPD63oFLib96h789ELL+8PaM4r3nrNXM30DeaQtECdKIpFC3gnqf3Eb4ncr+QWq5k+hgoWAEUIRKnqIEKzMEuW67eD6ExO6b+M9FsLgbqw5q7CwqTwPmx56EllQwlUM6Mn8QHMW4INHUu5CU1HGdAaVIJ9UsMduR1RvTG8jkpdGO6iQWIuWdCXTEEypmm/H5GUCR59YjueyiKVvegqaAFKfhc2MjFsFRhw3VNhQjDntJ43QrVGnzsXQgJHFD1nA1Fs8GK9o2F3d5PjogS7o5JufLTGV+KeurCcL39+lvmrqBvNIWiBehEUyhagE40haIF3NcYLREyqxLaO7kiLWwgPR+AIU8ipDZoupNB6r8rTGJKiJ0q6ABpiVjORukSpIgzkRbGG9WB2MgT1tF1SmOyRHo/dOn8ISwDZCW/RguWEiyQRcXCnMctwX4c4jrbiHsLMcsJFNKO+zyWq0FmZgnp0iHEdjHEQyfCeBPjqJ0Rnb8SsrA9aAKPz34g5GhdUO/7kI7fiPhXN4C/Q1Mg2/BYLjyk78LBjBejDiAwP4ICUVt8Fy5DZ9DXzd1B32gKRQvQiaZQtID7Sh2LLrdjjsDj4xdq6aDo0gaKVYiulCms0g+HVEha1zxFnoM1tQWUYCQ8D3OgnxmqQYTyHpPT1pIocR1y+oUdSQPhd9JU9Lu2gkqBH51we/Snrmyvt5crGpMnyiEmHlHYLnRG9YUyJAR6u9uj8aaWqFAAGpgLm/LFhMb4xGXyg/y1s7wL6Q/+9vp6ewfocSW+C1e2aR8undg2H1ONvibwiBtxjW6Hlo5c6KZTlpw6Wi7d941Q0H5473z9BqlzXnx0kx03mXDKeTfQN5pC0QJ0oikULeC+UsdXX/02+/fv/h515WikTwZkzbD7yVI0XDcgTC7Rh0JYh9ugWBhiMabwyTCQrbLARGIk7PCykCiINSDxKf9UYzaBwtrC4+MYih8rlyjhRUFnU+jC08D4ross2c4GjWPcBZom7wWoMHpAgmfCvs4HkXIuFBWdTaKIx3hv3rjJjvvkRRJLFyHRxY7shANKkcChe5sIMTfSxRTCC5m0tuB+ZivIdnu80PfmCT2DWChDXvnZ3np7A0TaA6FwOmx+eQ8RfaMpFC1AJ5pC0QJ0oikULeC+xmgSVkbcXnQFMhXwfh8IuOPxeKNzZYfOASnt2uE8OoF09BtgyPKPhjzNXGB7Jyg+dYQnJXbHrBJQqIvx1aBQkYr1EMxgMli2CAcxOy7o0BjR6ntrgx/nQRujCahBShHLbUN8FWGxo1Br/N2MnsHDAV8uQR9FLLKc2zwGOr5F9/1yh+67LVpEVfX7LyX4Im6yobKhhILbMObLKiX6f8K5//uP3mPHLUElU4gloU89cWa9/SS0n7p9zJeYXIg9n/udz6y3v/MXPCeB0DeaQtECdKIpFC2gVepYAl+sLT7HbRCjZpDSj2WqekGv8QzS00GfU8IYikyvgLi3FnSualBRAQWiOU/vl5DuDoA6LWVtK5heOEJwjNQnBho5HvLiSay5fBi6V0pzFxRmY3HrTZs/VhdUFJMVnSUUypDrt8mH49ErXA1xHu5TCdcou8kUsFTR2aDrKsVSAnbWseFeVOK+R1AgG8RE577919fYcUdAl7EYd7w1ZMddgGe8K9L2Qwgrbt0mb81MiOMToJ+9mAvH7wR9oykULUAnmkLRAlqljhkoIywhMkVVQq8LGSkh2s3hHOhj4SacmtRAR9C+rrE5XehANrEAyhH3RCYQsovHc8qseV2h6oAsmRvwjNwT58k+PINxsNosY8ylHowd6PZUZPjmM6LRj2zTeJ9yOcm0gKZ/++3JevsPHhuz47745NZ6+z/8gCs+/u0zF9bbWJ/ViHq0h67QObA2bTrjmbsI6HwJx72z4vfizZ/QOMaQJV0JWt4BS/DHIMs6z/n5Avg+NUKtskyIViYgNj8U/iRjqIUrRShyJ+gbTaFoATrRFIoWoBNNoWgBrcZobpdiDKGhNxYoO1YQs9jTOTuuMyaOPTuCs4iYj9mFQwGmJSy8pyd0/s0zFLMshRX5AtQgDhScyuLJIKZx5KLy4NqUznFlCFbkIs7DuKK0wO9SpL43Yvqd3IMCx8mxKDiFdPwTEMu9M+EVFBsDGvu//s2LbF8P2hg5EOcUIs7JIc5ZJRCXCS8QtJREa+53D3gqPYIY6GcQK50RluVDKBb+hwl97q/tiKUTaAl27YQraHZBuTQAX5Blh8fGFcT/yZzu9ef+6AvsuG/8+VfX2/pGUyhagE40haIFtEodX/3+K+vtT//W77F9OdAM7FCSCd+NHVBANCi+TXj6GMWoBuhHIYoxtzbJOvwAfEZQ2GuMMSX4UKBdRSGs4iJgUkcitfx3UxrjzKc0eCTS8WMHqCSIbAPRMWdS0+9kB5YcLvY51SkhBb8C8fFZn6etI6CY0m7vaELX0gU25nVFE3hIuxeQwl+JQlok3MdL2rfh8XtxG/75+BAoqy/E3DEN6jLcz1xUiL67P11vP9LnY7dhGcSGe7EQ360nLlDB7SqE7qJzfhw79x33KBSKewadaApFC2iVOiI6wiXXh6zeFLI/HZHxaVxolgeZptzlNK0pQXwMLCgSdUx7R+TPMQeKuSu8RQL4uwroYhTx881AgLoRcWpyaYvozQHUYCXiMUwKoi0DqK3qCP+LGwmdowd0c7q/YMfFkJF1PTrfG0f8Gh8CutgRYmELyB6KgF3RYHCCtoGQuf2FX3SgaX/7c2r6d7jiVPwhaCS/OaDrf3uPX+NOhN8LeiYDm38vzo0pY4yKFGOM6UPm2wLKCTYo/3eMe5Sp3oDzZcGdp5O+0RSKFqATTaFoATrRFIoW8MBitEJYTnugNsAwKii4emECHhpOTHFJOee22salfe72cL3dj3laeOWRGmQEHhLTBVcN9CBtnZXgaSKqAbw+xWHHRxO2r4R0N9azpkIBH0Ex4bvQbTIS8WoNBYi7EahuOjxuXEG82YACPnd56ns/g9irEr/BEENfCmjfzQlfchjB2PugrghC/lW7DbbaFXwXnh7w465FFF++mdO+xy/xwtTD96hodbxN96UWyp1NCyzWY7EMApUSW1BIbAtvkQ5c4/4xXUccSpdPgr7RFIoWoBNNoWgBD446igbpCShAIvBuaCpOzfrg3bFYUgq/0+eFmjUKesHabbrPRashpOexs0zQ4ec7AcoagiJWXgd2OXFGfbYvA2HtElQoXsgpTIrWdthBRXhXpECP3zLo4yGa9AHtdYFK2UI18dObx+vtp8/wsVuQur46o2vcFPbY2P1nDpQ1X/Dn+P13KKV/aUTP++GHeC5975C2c0OUrchP2HGfgIJTVBNZOVdr3CzoXvgZ33euR+fPgC72hYLmKjwGFERfX93ZKlzfaApFC9CJplC0AOtLX/6KdDF7IHjhhT9eb1vQIO56yl/b512iIzVkq1JhZ4aNCRegNAmF4mMOXiP+BtGlY+joYowxNXC4wSaJSnPZYxu704huiyn0pm6A2i5FViuGc2TgOyKt93I4/xgoTC2E0yVQ4i0UMNv8fCObxmRbIpsKlLiA32eszTLGmFuHIMyGLFw65VncR87RPRyNQKVcCUUO9O3+y1t0r1+8zKl9BXVmN64TrUwEmzuBx2UnPKMdY1YXsrjbPZ7FXRzQd+M6NJQsxEyKQPisbzSFogXoRFMoWoBONIWiBTyw9L5EuSI1tl8Rt31YxAB5RbFIk0MafMkVCgWkrrETTCP8GiMX/g7CklDEOQYLEuF8sSxARK8Rod7HOLKEuCwWnxXAGDvQJWVywtP7m7vkE2lAed6z7xx2F+BPifblxhiTNbRPKnf2IXW9CZ1m0jm/7xHEZQPwiHljxY/bBNU7PuLE5fcMu4E+0aPP/eFbh+y4K2NaIthb0n3e7vHzbYIl+E1hSz8EJcseWM+fCE/KJx6ipYRijxQpb+xxf5v//co319v6RlMoWoBONIWiBZwa6rg6JOrYnKWmdUGPKwWaBR0XQnP3lRD3xlC4uIQcb7rkKd0GfSJA3Cuy26ZEC5JD8p0YAAUyxpgSaGAjPsuA1d24SynjZcN/71ZXyQY77hElKqW4FcS9FQhiNxuxhOGA4gGOCxpOiRLoQjMwnDqOdigd78wovd3f5NQ5BKp2C1Q4nxDftARsBLGZI16vMca8dZuWBTbApHApnLh/uEfHZXA/z4nneAjvlkKM6TbYHP6vr/25uRO+c8c9d4a+0RSKFqATTaFoAaeGOnq7RBdTsFVzljzTVkNnmBzShLH4ydi/uk//GBLtkQ3xsDHhAJQhuejv7IBLcJbQmCYTzk264M+xIXpTb6G4FyjmVKgXrMfPr7dHkJJbyM4ooKJAEUouar/KFVHYBGzfvE+cZcct90lR8fohr+97ygELQOhqM885na326fn0YHy9SHiQwL1YLVCIzM93ZUi0cgE9th/d5BTzjSl97ts3idp+75vfNacB+kZTKFqATjSFogXoRFMoWsCpidG++8o31tuf/dwfrrfLmsclOSjbQ4hfippfSniOvECOr9HqvSeKHRtQ8y8w0BEKki54fS8WFL90hKK+hhjthlBDPLw7pOuAZQUn5Wn2TSgEdaGIsSsKEBOIGx24L03O48sAFCDvQpz3yemUHefA8sPD23xZJYV4ywa1Ri2WJoYW3M8uxbzljPswZqC26EDlwVA0cP93//4/m/8foG80haIF6ERTKFrAqaGOCCzotIQVm2ewoBN8PIQypLpBdLEHdG4+5RQGU+TYQWYhrK5XQPXqAdGqREhIfEhbO0JwfBOWLVKgcI9ucHWJB91LsgCaqme8eNIFW7nrYHvmiXuRx0SDHz8HjdSF0qQGsbTQcpsECl9D+Lsm4FR8sYJlEEPX+8o3XzYfZ+gbTaFoATrRFIoWoBNNoWgBpzJGW0LDcV+Y6ZSQ+nagfdJ0xuOXORjybAZgiS3MX25CPDSakKI8HXBfwxC8ErGgMXR4jPLejOROtrDcjsC2vA9yr7mQYHXBi3APHlHP4kWMIcR8v36ezney4MsKiznFpXs5xY0PjXhsaCqIIcWYvvfy143iw0PfaApFC9CJplC0gFNJHe3bZE1dQScYY4xZghI9AAW8LZQcMVJMUNH7Abff7kEKvoTUfyQKBitQ+TfwN4fCErwL1HQoupqWQ/AvBBWKl/IKBaSS2xXt60bCWwTS+zZQ2EGPLyt89c/+m3k//P37/q/ifkDfaApFC9CJplC0gFNJHX0QyPrCOq0BIW16QlQv7XLqOBxTsefeCRUC+sLabQj2cEvYZ4lsZwh23kj7OBE1pgOZvHLBKWED1nYxNCzMxJh2oUgS7dv+43/6r0bx0YS+0RSKFqATTaFoATrRFIoWcCpjtFd+9tp6+/nd32f7amie3gMPQB9b/xhjltAWKUL1hlDlG1DbVxB71Tb/DcL0fg4Fkli0aIwxEag1cnGOJez7wV+/YhQfH+gbTaFoATrRFIoWcCqpI+IQ/RmNMf1L1Mljfot8COcJ991YgudjHxQZbx9z8fEF6N7pQ3Gn2+GJe2xMf/3vv3dXY1co/h/0jaZQtACdaApFCzj11PHM4xfYv11sFggN4dJ3j9hxQ6gZw+bp2bXX2XFvXbsXo1QoPhj6RlMoWoBONIWiBehEUyhawKmP0QrxU/DSy197MANRKH4F6BtNoWgBOtEUihbwfwAfjI0czzvW0AAAAABJRU5ErkJggg==\" y=\"-8.766603\"/>\n   </g>\n   <g id=\"matplotlib.axis_1\">\n    <g id=\"xtick_1\">\n     <g id=\"line2d_1\">\n      <defs>\n       <path d=\"M 0 0 \nL 0 3.5 \n\" id=\"m1454796d1f\" style=\"stroke:#000000;stroke-width:0.8;\"/>\n      </defs>\n      <g>\n       <use style=\"stroke:#000000;stroke-width:0.8;\" x=\"28.597615\" xlink:href=\"#m1454796d1f\" y=\"226.766603\"/>\n      </g>\n     </g>\n     <g id=\"text_1\">\n      <!-- 0 -->\n      <g transform=\"translate(25.416365 241.365041)scale(0.1 -0.1)\">\n       <defs>\n        <path d=\"M 31.78125 66.40625 \nQ 24.171875 66.40625 20.328125 58.90625 \nQ 16.5 51.421875 16.5 36.375 \nQ 16.5 21.390625 20.328125 13.890625 \nQ 24.171875 6.390625 31.78125 6.390625 \nQ 39.453125 6.390625 43.28125 13.890625 \nQ 47.125 21.390625 47.125 36.375 \nQ 47.125 51.421875 43.28125 58.90625 \nQ 39.453125 66.40625 31.78125 66.40625 \nz\nM 31.78125 74.21875 \nQ 44.046875 74.21875 50.515625 64.515625 \nQ 56.984375 54.828125 56.984375 36.375 \nQ 56.984375 17.96875 50.515625 8.265625 \nQ 44.046875 -1.421875 31.78125 -1.421875 \nQ 19.53125 -1.421875 13.0625 8.265625 \nQ 6.59375 17.96875 6.59375 36.375 \nQ 6.59375 54.828125 13.0625 64.515625 \nQ 19.53125 74.21875 31.78125 74.21875 \nz\n\" id=\"DejaVuSans-48\"/>\n       </defs>\n       <use xlink:href=\"#DejaVuSans-48\"/>\n      </g>\n     </g>\n    </g>\n    <g id=\"xtick_2\">\n     <g id=\"line2d_2\">\n      <g>\n       <use style=\"stroke:#000000;stroke-width:0.8;\" x=\"62.049923\" xlink:href=\"#m1454796d1f\" y=\"226.766603\"/>\n      </g>\n     </g>\n     <g id=\"text_2\">\n      <!-- 10 -->\n      <g transform=\"translate(55.687423 241.365041)scale(0.1 -0.1)\">\n       <defs>\n        <path d=\"M 12.40625 8.296875 \nL 28.515625 8.296875 \nL 28.515625 63.921875 \nL 10.984375 60.40625 \nL 10.984375 69.390625 \nL 28.421875 72.90625 \nL 38.28125 72.90625 \nL 38.28125 8.296875 \nL 54.390625 8.296875 \nL 54.390625 0 \nL 12.40625 0 \nz\n\" id=\"DejaVuSans-49\"/>\n       </defs>\n       <use xlink:href=\"#DejaVuSans-49\"/>\n       <use x=\"63.623047\" xlink:href=\"#DejaVuSans-48\"/>\n      </g>\n     </g>\n    </g>\n    <g id=\"xtick_3\">\n     <g id=\"line2d_3\">\n      <g>\n       <use style=\"stroke:#000000;stroke-width:0.8;\" x=\"95.502231\" xlink:href=\"#m1454796d1f\" y=\"226.766603\"/>\n      </g>\n     </g>\n     <g id=\"text_3\">\n      <!-- 20 -->\n      <g transform=\"translate(89.139731 241.365041)scale(0.1 -0.1)\">\n       <defs>\n        <path d=\"M 19.1875 8.296875 \nL 53.609375 8.296875 \nL 53.609375 0 \nL 7.328125 0 \nL 7.328125 8.296875 \nQ 12.9375 14.109375 22.625 23.890625 \nQ 32.328125 33.6875 34.8125 36.53125 \nQ 39.546875 41.84375 41.421875 45.53125 \nQ 43.3125 49.21875 43.3125 52.78125 \nQ 43.3125 58.59375 39.234375 62.25 \nQ 35.15625 65.921875 28.609375 65.921875 \nQ 23.96875 65.921875 18.8125 64.3125 \nQ 13.671875 62.703125 7.8125 59.421875 \nL 7.8125 69.390625 \nQ 13.765625 71.78125 18.9375 73 \nQ 24.125 74.21875 28.421875 74.21875 \nQ 39.75 74.21875 46.484375 68.546875 \nQ 53.21875 62.890625 53.21875 53.421875 \nQ 53.21875 48.921875 51.53125 44.890625 \nQ 49.859375 40.875 45.40625 35.40625 \nQ 44.1875 33.984375 37.640625 27.21875 \nQ 31.109375 20.453125 19.1875 8.296875 \nz\n\" id=\"DejaVuSans-50\"/>\n       </defs>\n       <use xlink:href=\"#DejaVuSans-50\"/>\n       <use x=\"63.623047\" xlink:href=\"#DejaVuSans-48\"/>\n      </g>\n     </g>\n    </g>\n    <g id=\"xtick_4\">\n     <g id=\"line2d_4\">\n      <g>\n       <use style=\"stroke:#000000;stroke-width:0.8;\" x=\"128.954538\" xlink:href=\"#m1454796d1f\" y=\"226.766603\"/>\n      </g>\n     </g>\n     <g id=\"text_4\">\n      <!-- 30 -->\n      <g transform=\"translate(122.592038 241.365041)scale(0.1 -0.1)\">\n       <defs>\n        <path d=\"M 40.578125 39.3125 \nQ 47.65625 37.796875 51.625 33 \nQ 55.609375 28.21875 55.609375 21.1875 \nQ 55.609375 10.40625 48.1875 4.484375 \nQ 40.765625 -1.421875 27.09375 -1.421875 \nQ 22.515625 -1.421875 17.65625 -0.515625 \nQ 12.796875 0.390625 7.625 2.203125 \nL 7.625 11.71875 \nQ 11.71875 9.328125 16.59375 8.109375 \nQ 21.484375 6.890625 26.8125 6.890625 \nQ 36.078125 6.890625 40.9375 10.546875 \nQ 45.796875 14.203125 45.796875 21.1875 \nQ 45.796875 27.640625 41.28125 31.265625 \nQ 36.765625 34.90625 28.71875 34.90625 \nL 20.21875 34.90625 \nL 20.21875 43.015625 \nL 29.109375 43.015625 \nQ 36.375 43.015625 40.234375 45.921875 \nQ 44.09375 48.828125 44.09375 54.296875 \nQ 44.09375 59.90625 40.109375 62.90625 \nQ 36.140625 65.921875 28.71875 65.921875 \nQ 24.65625 65.921875 20.015625 65.03125 \nQ 15.375 64.15625 9.8125 62.3125 \nL 9.8125 71.09375 \nQ 15.4375 72.65625 20.34375 73.4375 \nQ 25.25 74.21875 29.59375 74.21875 \nQ 40.828125 74.21875 47.359375 69.109375 \nQ 53.90625 64.015625 53.90625 55.328125 \nQ 53.90625 49.265625 50.4375 45.09375 \nQ 46.96875 40.921875 40.578125 39.3125 \nz\n\" id=\"DejaVuSans-51\"/>\n       </defs>\n       <use xlink:href=\"#DejaVuSans-51\"/>\n       <use x=\"63.623047\" xlink:href=\"#DejaVuSans-48\"/>\n      </g>\n     </g>\n    </g>\n    <g id=\"xtick_5\">\n     <g id=\"line2d_5\">\n      <g>\n       <use style=\"stroke:#000000;stroke-width:0.8;\" x=\"162.406846\" xlink:href=\"#m1454796d1f\" y=\"226.766603\"/>\n      </g>\n     </g>\n     <g id=\"text_5\">\n      <!-- 40 -->\n      <g transform=\"translate(156.044346 241.365041)scale(0.1 -0.1)\">\n       <defs>\n        <path d=\"M 37.796875 64.3125 \nL 12.890625 25.390625 \nL 37.796875 25.390625 \nz\nM 35.203125 72.90625 \nL 47.609375 72.90625 \nL 47.609375 25.390625 \nL 58.015625 25.390625 \nL 58.015625 17.1875 \nL 47.609375 17.1875 \nL 47.609375 0 \nL 37.796875 0 \nL 37.796875 17.1875 \nL 4.890625 17.1875 \nL 4.890625 26.703125 \nz\n\" id=\"DejaVuSans-52\"/>\n       </defs>\n       <use xlink:href=\"#DejaVuSans-52\"/>\n       <use x=\"63.623047\" xlink:href=\"#DejaVuSans-48\"/>\n      </g>\n     </g>\n    </g>\n    <g id=\"xtick_6\">\n     <g id=\"line2d_6\">\n      <g>\n       <use style=\"stroke:#000000;stroke-width:0.8;\" x=\"195.859154\" xlink:href=\"#m1454796d1f\" y=\"226.766603\"/>\n      </g>\n     </g>\n     <g id=\"text_6\">\n      <!-- 50 -->\n      <g transform=\"translate(189.496654 241.365041)scale(0.1 -0.1)\">\n       <defs>\n        <path d=\"M 10.796875 72.90625 \nL 49.515625 72.90625 \nL 49.515625 64.59375 \nL 19.828125 64.59375 \nL 19.828125 46.734375 \nQ 21.96875 47.46875 24.109375 47.828125 \nQ 26.265625 48.1875 28.421875 48.1875 \nQ 40.625 48.1875 47.75 41.5 \nQ 54.890625 34.8125 54.890625 23.390625 \nQ 54.890625 11.625 47.5625 5.09375 \nQ 40.234375 -1.421875 26.90625 -1.421875 \nQ 22.3125 -1.421875 17.546875 -0.640625 \nQ 12.796875 0.140625 7.71875 1.703125 \nL 7.71875 11.625 \nQ 12.109375 9.234375 16.796875 8.0625 \nQ 21.484375 6.890625 26.703125 6.890625 \nQ 35.15625 6.890625 40.078125 11.328125 \nQ 45.015625 15.765625 45.015625 23.390625 \nQ 45.015625 31 40.078125 35.4375 \nQ 35.15625 39.890625 26.703125 39.890625 \nQ 22.75 39.890625 18.8125 39.015625 \nQ 14.890625 38.140625 10.796875 36.28125 \nz\n\" id=\"DejaVuSans-53\"/>\n       </defs>\n       <use xlink:href=\"#DejaVuSans-53\"/>\n       <use x=\"63.623047\" xlink:href=\"#DejaVuSans-48\"/>\n      </g>\n     </g>\n    </g>\n    <g id=\"xtick_7\">\n     <g id=\"line2d_7\">\n      <g>\n       <use style=\"stroke:#000000;stroke-width:0.8;\" x=\"229.311462\" xlink:href=\"#m1454796d1f\" y=\"226.766603\"/>\n      </g>\n     </g>\n     <g id=\"text_7\">\n      <!-- 60 -->\n      <g transform=\"translate(222.948962 241.365041)scale(0.1 -0.1)\">\n       <defs>\n        <path d=\"M 33.015625 40.375 \nQ 26.375 40.375 22.484375 35.828125 \nQ 18.609375 31.296875 18.609375 23.390625 \nQ 18.609375 15.53125 22.484375 10.953125 \nQ 26.375 6.390625 33.015625 6.390625 \nQ 39.65625 6.390625 43.53125 10.953125 \nQ 47.40625 15.53125 47.40625 23.390625 \nQ 47.40625 31.296875 43.53125 35.828125 \nQ 39.65625 40.375 33.015625 40.375 \nz\nM 52.59375 71.296875 \nL 52.59375 62.3125 \nQ 48.875 64.0625 45.09375 64.984375 \nQ 41.3125 65.921875 37.59375 65.921875 \nQ 27.828125 65.921875 22.671875 59.328125 \nQ 17.53125 52.734375 16.796875 39.40625 \nQ 19.671875 43.65625 24.015625 45.921875 \nQ 28.375 48.1875 33.59375 48.1875 \nQ 44.578125 48.1875 50.953125 41.515625 \nQ 57.328125 34.859375 57.328125 23.390625 \nQ 57.328125 12.15625 50.6875 5.359375 \nQ 44.046875 -1.421875 33.015625 -1.421875 \nQ 20.359375 -1.421875 13.671875 8.265625 \nQ 6.984375 17.96875 6.984375 36.375 \nQ 6.984375 53.65625 15.1875 63.9375 \nQ 23.390625 74.21875 37.203125 74.21875 \nQ 40.921875 74.21875 44.703125 73.484375 \nQ 48.484375 72.75 52.59375 71.296875 \nz\n\" id=\"DejaVuSans-54\"/>\n       </defs>\n       <use xlink:href=\"#DejaVuSans-54\"/>\n       <use x=\"63.623047\" xlink:href=\"#DejaVuSans-48\"/>\n      </g>\n     </g>\n    </g>\n   </g>\n   <g id=\"matplotlib.axis_2\">\n    <g id=\"ytick_1\">\n     <g id=\"line2d_8\">\n      <defs>\n       <path d=\"M 0 0 \nL -3.5 0 \n\" id=\"m06872c53d8\" style=\"stroke:#000000;stroke-width:0.8;\"/>\n      </defs>\n      <g>\n       <use style=\"stroke:#000000;stroke-width:0.8;\" x=\"26.925\" xlink:href=\"#m06872c53d8\" y=\"10.999219\"/>\n      </g>\n     </g>\n     <g id=\"text_8\">\n      <!-- 0 -->\n      <g transform=\"translate(13.5625 14.798437)scale(0.1 -0.1)\">\n       <use xlink:href=\"#DejaVuSans-48\"/>\n      </g>\n     </g>\n    </g>\n    <g id=\"ytick_2\">\n     <g id=\"line2d_9\">\n      <g>\n       <use style=\"stroke:#000000;stroke-width:0.8;\" x=\"26.925\" xlink:href=\"#m06872c53d8\" y=\"44.451526\"/>\n      </g>\n     </g>\n     <g id=\"text_9\">\n      <!-- 10 -->\n      <g transform=\"translate(7.2 48.250745)scale(0.1 -0.1)\">\n       <use xlink:href=\"#DejaVuSans-49\"/>\n       <use x=\"63.623047\" xlink:href=\"#DejaVuSans-48\"/>\n      </g>\n     </g>\n    </g>\n    <g id=\"ytick_3\">\n     <g id=\"line2d_10\">\n      <g>\n       <use style=\"stroke:#000000;stroke-width:0.8;\" x=\"26.925\" xlink:href=\"#m06872c53d8\" y=\"77.903834\"/>\n      </g>\n     </g>\n     <g id=\"text_10\">\n      <!-- 20 -->\n      <g transform=\"translate(7.2 81.703053)scale(0.1 -0.1)\">\n       <use xlink:href=\"#DejaVuSans-50\"/>\n       <use x=\"63.623047\" xlink:href=\"#DejaVuSans-48\"/>\n      </g>\n     </g>\n    </g>\n    <g id=\"ytick_4\">\n     <g id=\"line2d_11\">\n      <g>\n       <use style=\"stroke:#000000;stroke-width:0.8;\" x=\"26.925\" xlink:href=\"#m06872c53d8\" y=\"111.356142\"/>\n      </g>\n     </g>\n     <g id=\"text_11\">\n      <!-- 30 -->\n      <g transform=\"translate(7.2 115.155361)scale(0.1 -0.1)\">\n       <use xlink:href=\"#DejaVuSans-51\"/>\n       <use x=\"63.623047\" xlink:href=\"#DejaVuSans-48\"/>\n      </g>\n     </g>\n    </g>\n    <g id=\"ytick_5\">\n     <g id=\"line2d_12\">\n      <g>\n       <use style=\"stroke:#000000;stroke-width:0.8;\" x=\"26.925\" xlink:href=\"#m06872c53d8\" y=\"144.80845\"/>\n      </g>\n     </g>\n     <g id=\"text_12\">\n      <!-- 40 -->\n      <g transform=\"translate(7.2 148.607668)scale(0.1 -0.1)\">\n       <use xlink:href=\"#DejaVuSans-52\"/>\n       <use x=\"63.623047\" xlink:href=\"#DejaVuSans-48\"/>\n      </g>\n     </g>\n    </g>\n    <g id=\"ytick_6\">\n     <g id=\"line2d_13\">\n      <g>\n       <use style=\"stroke:#000000;stroke-width:0.8;\" x=\"26.925\" xlink:href=\"#m06872c53d8\" y=\"178.260757\"/>\n      </g>\n     </g>\n     <g id=\"text_13\">\n      <!-- 50 -->\n      <g transform=\"translate(7.2 182.059976)scale(0.1 -0.1)\">\n       <use xlink:href=\"#DejaVuSans-53\"/>\n       <use x=\"63.623047\" xlink:href=\"#DejaVuSans-48\"/>\n      </g>\n     </g>\n    </g>\n    <g id=\"ytick_7\">\n     <g id=\"line2d_14\">\n      <g>\n       <use style=\"stroke:#000000;stroke-width:0.8;\" x=\"26.925\" xlink:href=\"#m06872c53d8\" y=\"211.713065\"/>\n      </g>\n     </g>\n     <g id=\"text_14\">\n      <!-- 60 -->\n      <g transform=\"translate(7.2 215.512284)scale(0.1 -0.1)\">\n       <use xlink:href=\"#DejaVuSans-54\"/>\n       <use x=\"63.623047\" xlink:href=\"#DejaVuSans-48\"/>\n      </g>\n     </g>\n    </g>\n   </g>\n   <g id=\"patch_3\">\n    <path d=\"M 26.925 226.766603 \nL 26.925 9.326603 \n\" style=\"fill:none;stroke:#000000;stroke-linecap:square;stroke-linejoin:miter;stroke-width:0.8;\"/>\n   </g>\n   <g id=\"patch_4\">\n    <path d=\"M 244.365 226.766603 \nL 244.365 9.326603 \n\" style=\"fill:none;stroke:#000000;stroke-linecap:square;stroke-linejoin:miter;stroke-width:0.8;\"/>\n   </g>\n   <g id=\"patch_5\">\n    <path d=\"M 26.925 226.766603 \nL 244.365 226.766603 \n\" style=\"fill:none;stroke:#000000;stroke-linecap:square;stroke-linejoin:miter;stroke-width:0.8;\"/>\n   </g>\n   <g id=\"patch_6\">\n    <path d=\"M 26.925 9.326603 \nL 244.365 9.326603 \n\" style=\"fill:none;stroke:#000000;stroke-linecap:square;stroke-linejoin:miter;stroke-width:0.8;\"/>\n   </g>\n  </g>\n </g>\n <defs>\n  <clipPath id=\"pa9528703cc\">\n   <rect height=\"217.44\" width=\"217.44\" x=\"26.925\" y=\"9.326603\"/>\n  </clipPath>\n </defs>\n</svg>\n",
      "image/png": "[encoded data removed]"
     },
     "metadata": {
      "needs_background": "light"
     }
    }
   ],
   "source": [
    "img= get_rgb_img_to_plot(parsed_examples[0])\n",
    "img = clean_ee_borders(img,3)\n",
    "plt.imshow(img);"
   ]
  },
  {
   "cell_type": "code",
   "execution_count": 6,
   "metadata": {},
   "outputs": [],
   "source": [
    "def get_X_test_all_bands(parsed_example, intensify=True):\n",
    "    elevenArray = np.zeros((65,65,11), 'int64')\n",
    "    for i, band in enumerate(['B1','B4', 'B3', 'B2','B5','B6','B7','B8','B9','B10','B11']):\n",
    "        band_data = parsed_example[band].numpy()\n",
    "        if intensify:\n",
    "            band_data = band_data/np.max(band_data)*255\n",
    "        else:\n",
    "            band_data = band_data*255\n",
    "        elevenArray[..., i] = band_data\n",
    "    return elevenArray"
   ]
  },
  {
   "cell_type": "code",
   "execution_count": 15,
   "metadata": {},
   "outputs": [],
   "source": [
    "X_test_image = get_X_test_all_bands(parsed_examples[0])\n",
    "X_test_image = clean_ee_borders(X_test_image,11)"
   ]
  },
  {
   "cell_type": "code",
   "execution_count": 16,
   "metadata": {},
   "outputs": [],
   "source": [
    "X_test_image = X_test_image.reshape(1,65,65,11)"
   ]
  },
  {
   "cell_type": "code",
   "execution_count": 17,
   "metadata": {},
   "outputs": [
    {
     "output_type": "execute_result",
     "data": {
      "text/plain": [
       "(1, 65, 65, 11)"
      ]
     },
     "metadata": {},
     "execution_count": 17
    }
   ],
   "source": [
    "X_test_image.shape"
   ]
  },
  {
   "cell_type": "markdown",
   "metadata": {},
   "source": [
    "# TO DO: data augmentation"
   ]
  },
  {
   "cell_type": "code",
   "execution_count": null,
   "metadata": {},
   "outputs": [],
   "source": []
  }
 ],
 "metadata": {
  "kernelspec": {
   "display_name": "Python 3",
   "language": "python",
   "name": "python3"
  },
  "language_info": {
   "codemirror_mode": {
    "name": "ipython",
    "version": 3
   },
   "file_extension": ".py",
   "mimetype": "text/x-python",
   "name": "python",
   "nbconvert_exporter": "python",
   "pygments_lexer": "ipython3",
   "version": "3.8.5-final"
  },
  "toc": {
   "base_numbering": 1,
   "nav_menu": {},
   "number_sections": true,
   "sideBar": true,
   "skip_h1_title": false,
   "title_cell": "Table of Contents",
   "title_sidebar": "Contents",
   "toc_cell": false,
   "toc_position": {},
   "toc_section_display": true,
   "toc_window_display": false
  },
  "varInspector": {
   "cols": {
    "lenName": 16,
    "lenType": 16,
    "lenVar": 40
   },
   "kernels_config": {
    "python": {
     "delete_cmd_postfix": "",
     "delete_cmd_prefix": "del ",
     "library": "var_list.py",
     "varRefreshCmd": "print(var_dic_list())"
    },
    "r": {
     "delete_cmd_postfix": ") ",
     "delete_cmd_prefix": "rm(",
     "library": "var_list.r",
     "varRefreshCmd": "cat(var_dic_list()) "
    }
   },
   "oldHeight": 396.391,
   "position": {
    "height": "40px",
    "left": "917.188px",
    "right": "20px",
    "top": "130px",
    "width": "482px"
   },
   "types_to_exclude": [
    "module",
    "function",
    "builtin_function_or_method",
    "instance",
    "_Feature"
   ],
   "varInspector_section_display": "none",
   "window_display": false
  }
 },
 "nbformat": 4,
 "nbformat_minor": 2
}